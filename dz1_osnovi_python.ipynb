{
 "cells": [
  {
   "cell_type": "code",
   "execution_count": 3,
   "id": "66122ad2",
   "metadata": {},
   "outputs": [
    {
     "name": "stdout",
     "output_type": "stream",
     "text": [
      "Thailand - 23.9 C\n",
      "Germany - 13.8 C\n",
      "Russia - 3.7 C\n",
      "Poland - 12.0 C\n"
     ]
    }
   ],
   "source": [
    "countries_temperature = [\n",
    "['Thailand', [75.2, 77, 78.8, 73.4, 68, 75.2, 77]],\n",
    "['Germany', [57.2, 55.4, 59, 59, 53.6]],\n",
    "['Russia', [35.6, 37.4, 39.2, 41, 42.8, 39.2, 35.6]],\n",
    "['Poland', [50, 50, 53.6, 57.2, 55.4, 55.4]]\n",
    "]\n",
    "for country in countries_temperature:\n",
    "    print(country[0], '-', round((sum(country[1]) / len(country[1]) - 32) / 1.8, 1), 'C')\n"
   ]
  },
  {
   "cell_type": "code",
   "execution_count": 11,
   "id": "2bb8aa3b",
   "metadata": {},
   "outputs": [
    {
     "name": "stdout",
     "output_type": "stream",
     "text": [
      "Результат: \n",
      "\n",
      "Средняя температура в странах:\n",
      "Thailand - 23.9 C\n",
      "Germany - 13.8 C\n",
      "Russia - 3.7 C\n",
      "Poland - 12.0 C\n"
     ]
    }
   ],
   "source": [
    "countries_temperature = [\n",
    "['Thailand', [75.2, 77, 78.8, 73.4, 68, 75.2, 77]],\n",
    "['Germany', [57.2, 55.4, 59, 59, 53.6]],\n",
    "['Russia', [35.6, 37.4, 39.2, 41, 42.8, 39.2, 35.6]],\n",
    "['Poland', [50, 50, 53.6, 57.2, 55.4, 55.4]]\n",
    "]\n",
    "print('Результат: \\n\\nСредняя температура в странах:')\n",
    "for country in countries_temperature:\n",
    "        print(country[0], '-', round((sum(country[1]) / len(country[1]) - 32) / 1.8, 1), 'C')\n"
   ]
  },
  {
   "cell_type": "code",
   "execution_count": 6,
   "id": "c35519ca",
   "metadata": {},
   "outputs": [
    {
     "name": "stdout",
     "output_type": "stream",
     "text": [
      "Результат: \n",
      "\n",
      "Средняя температура в странах:\n",
      "Thailand - 23.9 C\n",
      "Germany - 13.8 C\n",
      "Russia - 3.7 C\n",
      "Poland - 12.0 C\n"
     ]
    }
   ],
   "source": [
    "countries_temperature = [\n",
    "['Thailand', [75.2, 77, 78.8, 73.4, 68, 75.2, 77]],\n",
    "['Germany', [57.2, 55.4, 59, 59, 53.6]],\n",
    "['Russia', [35.6, 37.4, 39.2, 41, 42.8, 39.2, 35.6]],\n",
    "['Poland', [50, 50, 53.6, 57.2, 55.4, 55.4]]\n",
    "]\n",
    "print(f'Результат: \\n\\nСредняя температура в странах:')\n",
    "for country in countries_temperature:\n",
    "    print (f'{country[0]} - {round((sum(country[1])/len(country[1])-32)/1.8, 1)} C')"
   ]
  },
  {
   "cell_type": "code",
   "execution_count": 14,
   "id": "b5bff508",
   "metadata": {},
   "outputs": [
    {
     "name": "stdout",
     "output_type": "stream",
     "text": [
      "Результат: \n",
      "\n",
      "Средняя температура в странах:\n",
      "Thailand - 23.9 C\n",
      "Germany - 13.8 C\n",
      "Russia - 3.7 C\n",
      "Poland - 12.0 C\n"
     ]
    }
   ],
   "source": [
    "countries_temperature = [\n",
    "['Thailand', [75.2, 77, 78.8, 73.4, 68, 75.2, 77]],\n",
    "['Germany', [57.2, 55.4, 59, 59, 53.6]],\n",
    "['Russia', [35.6, 37.4, 39.2, 41, 42.8, 39.2, 35.6]],\n",
    "['Poland', [50, 50, 53.6, 57.2, 55.4, 55.4]]\n",
    "]\n",
    "print('Результат: \\n\\nСредняя температура в странах:')\n",
    "for country in countries_temperature:\n",
    "        print(country[0], '-', round((sum(country[1]) / len(country[1]) - 32) / 1.8, 1), 'C')"
   ]
  },
  {
   "cell_type": "code",
   "execution_count": 15,
   "id": "7e327a62",
   "metadata": {},
   "outputs": [
    {
     "name": "stdout",
     "output_type": "stream",
     "text": [
      "Идеальные пары: \n",
      "Alex и Emma\n",
      "Arthur и Kate\n",
      "John и Kira\n",
      "Peter и Liza\n",
      "Richard и Trisha\n",
      "Внимание, кто-то может остаться без пары!\n"
     ]
    }
   ],
   "source": [
    "boys = ['Peter', 'Alex', 'John', 'Arthur', 'Richard']\n",
    "girls = ['Kate', 'Liza', 'Kira', 'Emma', 'Trisha']\n",
    "# print(list(zip(boys, girls)))\n",
    "boys, girls = sorted(boys), sorted(girls)\n",
    "if len(boys)==len(girls):\n",
    "    print(\"Идеальные пары: \")\n",
    "for company in zip(boys, girls):\n",
    "    print(f\"{company[0]} и {company[1]}\")\n",
    "else:\n",
    "    print(\"Внимание, кто-то может остаться без пары!\")"
   ]
  },
  {
   "cell_type": "code",
   "execution_count": 16,
   "id": "803aac39",
   "metadata": {},
   "outputs": [
    {
     "name": "stdout",
     "output_type": "stream",
     "text": [
      "Peter:\n",
      "K\n",
      "a\n",
      "t\n",
      "e\n",
      "Alex:\n",
      "L\n",
      "i\n",
      "z\n",
      "a\n",
      "John:\n",
      "K\n",
      "i\n",
      "r\n",
      "a\n",
      "Arthur:\n",
      "E\n",
      "m\n",
      "m\n",
      "a\n",
      "Richard:\n",
      "T\n",
      "r\n",
      "i\n",
      "s\n",
      "h\n",
      "a\n"
     ]
    }
   ],
   "source": [
    "boys = ['Peter', 'Alex', 'John', 'Arthur', 'Richard']\n",
    "girls = ['Kate', 'Liza', 'Kira', 'Emma', 'Trisha']\n",
    "# print(list(zip(boys, girls)))\n",
    "for boys, girls in zip(boys, girls):\n",
    "    print(f\"{boys}:\")\n",
    "    for girls in girls:\n",
    "        print(girls)"
   ]
  },
  {
   "cell_type": "code",
   "execution_count": 18,
   "id": "3c1d25ad",
   "metadata": {},
   "outputs": [
    {
     "name": "stdout",
     "output_type": "stream",
     "text": [
      "Введите фразу:test\n",
      "Средний символ: es\n"
     ]
    }
   ],
   "source": [
    "str1 = input(str('Введите фразу:'))\n",
    "print(\"Средний символ:\", str1[int((len(str1)/2))] if len(str1)%2 else str1[int((len(str1)/2-1)):int((len(str1)/2))+1])\n"
   ]
  },
  {
   "cell_type": "code",
   "execution_count": null,
   "id": "3dee932d",
   "metadata": {},
   "outputs": [],
   "source": []
  }
 ],
 "metadata": {
  "kernelspec": {
   "display_name": "Python 3",
   "language": "python",
   "name": "python3"
  },
  "language_info": {
   "codemirror_mode": {
    "name": "ipython",
    "version": 3
   },
   "file_extension": ".py",
   "mimetype": "text/x-python",
   "name": "python",
   "nbconvert_exporter": "python",
   "pygments_lexer": "ipython3",
   "version": "3.8.8"
  }
 },
 "nbformat": 4,
 "nbformat_minor": 5
}
