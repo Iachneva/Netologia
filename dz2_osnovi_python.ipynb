{
 "cells": [
  {
   "cell_type": "code",
   "execution_count": 1,
   "id": "cf13cdda",
   "metadata": {},
   "outputs": [
    {
     "name": "stdout",
     "output_type": "stream",
     "text": [
      "Введите фразу: test\n",
      "Средний символ: es\n"
     ]
    }
   ],
   "source": [
    "#Задание 1 Дана переменная, в которой хранится слово из латинских букв. \n",
    "#Напишите код, который выводит на экран: среднюю букву, если число букв в слове нечетное; две средних буквы, если число букв четное.\n",
    "\n",
    "str1 = input(str(\"Введите фразу: \"))\n",
    "print(\"Средний символ:\", str1[int((len(str1)/2))] if len(str1)%2 else str1[int((len(str1)/2-1)):int((len(str1)/2))+1])\n"
   ]
  },
  {
   "cell_type": "code",
   "execution_count": 2,
   "id": "647bf8e9",
   "metadata": {},
   "outputs": [
    {
     "name": "stdout",
     "output_type": "stream",
     "text": [
      "Введите число:2\n",
      "Введите число:4\n",
      "Введите число:0\n",
      "Результат: 6\n"
     ]
    }
   ],
   "source": [
    "#Задание 2\n",
    "#Напишите программу, которая последовательно запрашивает у пользователя числа (по одному за раз) и после первого нуля выводит сумму всех ранее введенных чисел.\n",
    "\n",
    "a = int(input('Введите число:'))\n",
    "sum = 0\n",
    "while a != 0:\n",
    "    sum += a\n",
    "    a = int(input('Введите число:'))\n",
    "if a == 0:\n",
    "     print('Результат:',sum)"
   ]
  },
  {
   "cell_type": "code",
   "execution_count": 3,
   "id": "96ec30e3",
   "metadata": {},
   "outputs": [
    {
     "name": "stdout",
     "output_type": "stream",
     "text": [
      "Идеальные пары: \n",
      "Alex и Emma\n",
      "Arthur и Kate\n",
      "John и Kira\n",
      "Peter и Liza\n",
      "Richard и Trisha\n"
     ]
    }
   ],
   "source": [
    "#Задание 3 Мы делаем MVP dating-сервиса, и у нас есть список парней и девушек.\n",
    "#Выдвигаем гипотезу: лучшие рекомендации мы получим, если просто отсортируем имена по алфавиту и познакомим людей с одинаковыми индексами после сортировки! Но мы не будем никого знакомить, если кто-то может остаться без пары:\n",
    "\n",
    "boys = ['Peter', 'Alex', 'John', 'Arthur', 'Richard']\n",
    "girls = ['Kate', 'Liza', 'Kira', 'Emma', 'Trisha']\n",
    "if len(boys)==len(girls):\n",
    "    print(\"Идеальные пары: \")\n",
    "    boys, girls = sorted(boys), sorted(girls)\n",
    "    boys_girls = zip(boys, girls)\n",
    "    for company in boys_girls:\n",
    "        print(f\"{company[0]} и {company[1]}\")\n",
    "else:\n",
    "     print('Внимание, кто-то может остаться без пары')"
   ]
  },
  {
   "cell_type": "code",
   "execution_count": null,
   "id": "138cf9e5",
   "metadata": {},
   "outputs": [],
   "source": [
    "#Задание 4\n",
    "#У нас есть список, содержащий информацию о среднедневной температуре в Фаренгейтах за произвольный период по странам (структура данных в примере). \n",
    "#Необходимо написать код, который рассчитает среднюю температуру за период в Цельсиях(!) для каждой страны.\n",
    "\n",
    "countries_temperature = [\n",
    "['Thailand', [75.2, 77, 78.8, 73.4, 68, 75.2, 77]],\n",
    "['Germany', [57.2, 55.4, 59, 59, 53.6]],\n",
    "['Russia', [35.6, 37.4, 39.2, 41, 42.8, 39.2, 35.6]],\n",
    "['Poland', [50, 50, 53.6, 57.2, 55.4, 55.4]]\n",
    "]\n",
    "print('Результат: \\n\\nСредняя температура в странах:')\n",
    "for country in countries_temperature:\n",
    "        print(country[0], '-', round((sum(country[1]) / len(country[1]) - 32) / 1.8, 1), 'C')"
   ]
  }
 ],
 "metadata": {
  "kernelspec": {
   "display_name": "Python 3",
   "language": "python",
   "name": "python3"
  },
  "language_info": {
   "codemirror_mode": {
    "name": "ipython",
    "version": 3
   },
   "file_extension": ".py",
   "mimetype": "text/x-python",
   "name": "python",
   "nbconvert_exporter": "python",
   "pygments_lexer": "ipython3",
   "version": "3.8.8"
  }
 },
 "nbformat": 4,
 "nbformat_minor": 5
}
