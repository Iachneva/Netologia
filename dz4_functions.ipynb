{
 "cells": [
  {
   "cell_type": "code",
   "execution_count": null,
   "id": "0068379d",
   "metadata": {},
   "outputs": [],
   "source": [
    "Задание 1\n",
    "Пункт 1. Пользователь по команде “p” может узнать владельца документа по его номеру\n",
    "Примеры работы:\n",
    "\n",
    "Введите команду:\n",
    "p\n",
    "\n",
    "Введите номер документа:\n",
    "10006\n",
    "\n",
    "Результат:\n",
    "Владелец документа: Аристарх Павлов\n",
    "\n",
    "Введите команду:\n",
    "p\n",
    "\n",
    "Введите номер документа:\n",
    "12345\n",
    "\n",
    "Результат:\n",
    "Документ не найден в базе"
   ]
  },
  {
   "cell_type": "code",
   "execution_count": 3,
   "id": "db4b33b2",
   "metadata": {},
   "outputs": [],
   "source": [
    "documents = [\n",
    " {'type': 'passport', 'number': '2207 876234', 'name': 'Василий Гупкин'},\n",
    " {'type': 'invoice', 'number': '11-2', 'name': 'Геннадий Покемонов'},\n",
    " {'type': 'insurance', 'number': '10006', 'name': 'Аристарх Павлов'}\n",
    "]\n",
    "directories = {\n",
    " '1': ['2207 876234', '11-2'],\n",
    " '2': ['10006'],\n",
    " '3': []\n",
    "}\n",
    "def print_owner():\n",
    "    found = False\n",
    "    doc_id = input('Введите номер документа: ')\n",
    "    for doc in documents:\n",
    "        if doc['number'] == doc_id:\n",
    "            print('Владелец документа: ', doc['name'])\n",
    "            found = True  \n",
    "            \n",
    "    if not found:\n",
    "        print('Документ не найден в базе')\n",
    "        \n",
    "\n"
   ]
  },
  {
   "cell_type": "code",
   "execution_count": 5,
   "id": "dcd6b0d3",
   "metadata": {},
   "outputs": [
    {
     "name": "stdout",
     "output_type": "stream",
     "text": [
      "Введите номер документа: 10006\n",
      "Владелец документа:  Аристарх Павлов\n"
     ]
    }
   ],
   "source": [
    "print_owner()"
   ]
  },
  {
   "cell_type": "code",
   "execution_count": null,
   "id": "8708aeeb",
   "metadata": {},
   "outputs": [],
   "source": [
    "Пункт 2. Пользователь по команде “s” может по номеру документа узнать на какой полке он хранится\n",
    "Примеры работы:\n",
    "\n",
    "Введите команду:\n",
    "s\n",
    "\n",
    "Введите номер документа:\n",
    "10006\n",
    "\n",
    "Результат:\n",
    "Документ хранится на полке: 2\n",
    "\n",
    "Введите команду:\n",
    "p\n",
    "\n",
    "Введите номер документа:\n",
    "12345\n",
    "\n",
    "Результат:\n",
    "Документ не найден в базе"
   ]
  },
  {
   "cell_type": "code",
   "execution_count": 8,
   "id": "43ee7655",
   "metadata": {},
   "outputs": [],
   "source": [
    "documents = [\n",
    " {'type': 'passport', 'number': '2207 876234', 'name': 'Василий Гупкин'},\n",
    " {'type': 'invoice', 'number': '11-2', 'name': 'Геннадий Покемонов'},\n",
    " {'type': 'insurance', 'number': '10006', 'name': 'Аристарх Павлов'}\n",
    "]\n",
    "directories = {\n",
    " '1': ['2207 876234', '11-2'],\n",
    " '2': ['10006'],\n",
    " '3': []\n",
    "}\n",
    "def print_shelf():\n",
    "    found = False\n",
    "    doc_id = input('Введите номер документа: ')\n",
    "    for k in directories:\n",
    "        if doc_id in directories[k]:\n",
    "            print('Документ хранится на полке:', k)\n",
    "            found = True\n",
    "        \n",
    "    if not found:\n",
    "        print('Документ не найден в базе')\n"
   ]
  },
  {
   "cell_type": "code",
   "execution_count": 9,
   "id": "e27995bb",
   "metadata": {},
   "outputs": [
    {
     "name": "stdout",
     "output_type": "stream",
     "text": [
      "Введите номер документа: 2207 876234\n",
      "Документ хранится на полке: 1\n"
     ]
    }
   ],
   "source": [
    "print_shelf()"
   ]
  },
  {
   "cell_type": "code",
   "execution_count": null,
   "id": "49ff9a69",
   "metadata": {},
   "outputs": [],
   "source": [
    "Пункт 3. Пользователь по команде “l” может увидеть полную информацию по всем документам\n",
    "Пример работы:\n",
    "\n",
    "Введите команду:\n",
    "l\n",
    "Результат:\n",
    "\n",
    "№: 2207 876234, тип: passport, владелец: Василий Гупкин, полка хранения: 1\n",
    "№: 11-2, тип: invoice, владелец: Геннадий Покемонов, полка хранения: 1\n",
    "№: 10006, тип: insurance, владелец: Аристарх Павлов, полка хранения: 2"
   ]
  },
  {
   "cell_type": "code",
   "execution_count": 23,
   "id": "91ed38c5",
   "metadata": {},
   "outputs": [],
   "source": [
    "documents = [\n",
    " {'type': 'passport', 'number': '2207 876234', 'name': 'Василий Гупкин'},\n",
    " {'type': 'invoice', 'number': '11-2', 'name': 'Геннадий Покемонов'},\n",
    " {'type': 'insurance', 'number': '10006', 'name': 'Аристарх Павлов'}\n",
    "]\n",
    "directories = {\n",
    " '1': ['2207 876234', '11-2'],\n",
    " '2': ['10006'],\n",
    " '3': []\n",
    "}\n",
    "def print_docs(docs,dirs):\n",
    "    for shelf, content in directories.items():\n",
    "        for doc in documents:\n",
    "            if doc['number'] in content:\n",
    "                print(f\"№{doc['number']}, num: {doc['type']}, владелец: {doc['name']}, полка: {shelf}\")\n"
   ]
  },
  {
   "cell_type": "code",
   "execution_count": 14,
   "id": "04adb249",
   "metadata": {},
   "outputs": [
    {
     "name": "stdout",
     "output_type": "stream",
     "text": [
      "№2207 876234, num: passport, владелец: Василий Гупкин, полка: 1\n",
      "№11-2, num: invoice, владелец: Геннадий Покемонов, полка: 1\n",
      "№10006, num: insurance, владелец: Аристарх Павлов, полка: 2\n"
     ]
    }
   ],
   "source": [
    "print_docs(documents, directories)"
   ]
  },
  {
   "cell_type": "code",
   "execution_count": null,
   "id": "d9f56909",
   "metadata": {},
   "outputs": [],
   "source": [
    "Пункт 4. Пользователь по команде “as” может добавить новую полку\n",
    "Примеры работы:\n",
    "\n",
    "Введите команду:\n",
    "as\n",
    "\n",
    "Введите номер полки:\n",
    "10\n",
    "\n",
    "Результат:\n",
    "Полка добавлена. Текущий перечень полок: 1, 2, 3, 10.\n",
    "\n",
    "Введите команду:\n",
    "as\n",
    "\n",
    "Введите номер полки:\n",
    "1\n",
    "\n",
    "Результат:\n",
    "Такая полка уже существует. Текущий перечень полок: 1, 2, 3."
   ]
  },
  {
   "cell_type": "code",
   "execution_count": 15,
   "id": "c3e79f9c",
   "metadata": {},
   "outputs": [],
   "source": [
    "documents = [\n",
    " {'type': 'passport', 'number': '2207 876234', 'name': 'Василий Гупкин'},\n",
    " {'type': 'invoice', 'number': '11-2', 'name': 'Геннадий Покемонов'},\n",
    " {'type': 'insurance', 'number': '10006', 'name': 'Аристарх Павлов'}\n",
    "]\n",
    "directories = {\n",
    " '1': ['2207 876234', '11-2'],\n",
    " '2': ['10006'],\n",
    " '3': []\n",
    "}\n",
    "def print_adshelf():\n",
    "    shelf_id = input('Введите номер полки:')\n",
    "    for shelf in directories.items():\n",
    "        if shelf_id in shelf[0]:\n",
    "            print(f\"Такая полка уже существует. Текущий перечень полок: {list(directories.keys())}\")\n",
    "            break\n",
    "    else:\n",
    "        directories[shelf_id] = []\n",
    "        print(f\"Полка добавлена. Текущий перечень полок: {list(directories.keys())}\")\n",
    "\n"
   ]
  },
  {
   "cell_type": "code",
   "execution_count": 16,
   "id": "0a7680a8",
   "metadata": {},
   "outputs": [
    {
     "name": "stdout",
     "output_type": "stream",
     "text": [
      "Введите номер полки:10\n",
      "Полка добавлена. Текущий перечень полок: ['1', '2', '3', '10']\n"
     ]
    }
   ],
   "source": [
    "print_adshelf()\n"
   ]
  },
  {
   "cell_type": "code",
   "execution_count": null,
   "id": "786af89d",
   "metadata": {},
   "outputs": [],
   "source": [
    "Пункт 5. Пользователь по команде “ds” может удалить существующую полку из данных (только если она пустая)\n",
    "Примеры работы:\n",
    "\n",
    "Введите команду:\n",
    "ds\n",
    "\n",
    "Введите номер полки:\n",
    "3\n",
    "Результат:\n",
    "Полка удалена. Текущий перечень полок: 1, 2.\n",
    "\n",
    "Введите команду:\n",
    "ds\n",
    "\n",
    "Введите номер полки:\n",
    "1\n",
    "Результат:\n",
    "На полке есть документа, удалите их перед удалением полки. Текущий перечень полок: 1, 2, 3.\n",
    "\n",
    "Введите команду:\n",
    "ds\n",
    "\n",
    "Введите номер полки:\n",
    "4\n",
    "Результат:\n",
    "Такой полки не существует. Текущий перечень полок: 1, 2, 3."
   ]
  },
  {
   "cell_type": "code",
   "execution_count": 17,
   "id": "b88bcae7",
   "metadata": {},
   "outputs": [],
   "source": [
    "documents = [\n",
    " {'type': 'passport', 'number': '2207 876234', 'name': 'Василий Гупкин'},\n",
    " {'type': 'invoice', 'number': '11-2', 'name': 'Геннадий Покемонов'},\n",
    " {'type': 'insurance', 'number': '10006', 'name': 'Аристарх Павлов'}\n",
    "]\n",
    "directories = {\n",
    " '1': ['2207 876234', '11-2'],\n",
    " '2': ['10006'],\n",
    " '3': []\n",
    "}\n",
    "def delete_shelf():\n",
    "    shelf_id = input('Введите номер полки:')\n",
    "    for shelf in directories.items():\n",
    "        if shelf_id in shelf[0]:\n",
    "            if directories[shelf_id] == []:\n",
    "                del(directories[shelf_id])\n",
    "                print(f\"Полка удалена. Текущий перечень полок: {list(directories.keys())}\")\n",
    "            else:\n",
    "                print(f\"На полке есть документы, удалите их перед удалением полки. Текущий перечень полок: {list(directories.keys())}\")\n",
    "            break\n",
    "    else:\n",
    "        print(f\"Такой полки не существует. Текущий перечень полок: {list(directories.keys())}\")\n",
    "\n",
    "\n"
   ]
  },
  {
   "cell_type": "code",
   "execution_count": 18,
   "id": "992ba079",
   "metadata": {},
   "outputs": [
    {
     "name": "stdout",
     "output_type": "stream",
     "text": [
      "Введите номер полки:1\n",
      "На полке есть документы, удалите их перед удалением полки. Текущий перечень полок: ['1', '2', '3']\n"
     ]
    }
   ],
   "source": [
    "delete_shelf()"
   ]
  },
  {
   "cell_type": "code",
   "execution_count": 19,
   "id": "b67f8ee4",
   "metadata": {},
   "outputs": [
    {
     "name": "stdout",
     "output_type": "stream",
     "text": [
      "Введите команду: p\n",
      "Введите номер документа: 10006\n",
      "Владелец документа:  Аристарх Павлов\n",
      "Введите команду: s\n",
      "Введите номер документа: 10006\n",
      "Документ хранится на полке: 2\n",
      "Введите команду: l\n",
      "№2207 876234, num: passport, владелец: Василий Гупкин, полка: 1\n",
      "№11-2, num: invoice, владелец: Геннадий Покемонов, полка: 1\n",
      "№10006, num: insurance, владелец: Аристарх Павлов, полка: 2\n",
      "Введите команду: as\n",
      "Введите номер полки:10\n",
      "Полка добавлена. Текущий перечень полок: ['1', '2', '3', '10']\n",
      "Введите команду: ds\n",
      "Введите номер полки:3\n",
      "Полка удалена. Текущий перечень полок: ['1', '2', '10']\n",
      "Введите команду: q\n"
     ]
    }
   ],
   "source": [
    "def main():\n",
    "    while True:\n",
    "        user_input = input('Введите команду: ')\n",
    "        if user_input == 'p':\n",
    "            print_owner()\n",
    "        elif  user_input == 's':   \n",
    "            print_shelf()    \n",
    "        elif  user_input == 'l':       \n",
    "            print_docs(documents, directories)\n",
    "        elif  user_input == 'as': \n",
    "            print_adshelf()\n",
    "        elif user_input == 'ds':\n",
    "            delete_shelf()\n",
    "        elif user_input == 'q':\n",
    "            break    \n",
    "main()"
   ]
  },
  {
   "cell_type": "code",
   "execution_count": null,
   "id": "73d9c64f",
   "metadata": {},
   "outputs": [],
   "source": []
  }
 ],
 "metadata": {
  "kernelspec": {
   "display_name": "Python 3",
   "language": "python",
   "name": "python3"
  },
  "language_info": {
   "codemirror_mode": {
    "name": "ipython",
    "version": 3
   },
   "file_extension": ".py",
   "mimetype": "text/x-python",
   "name": "python",
   "nbconvert_exporter": "python",
   "pygments_lexer": "ipython3",
   "version": "3.8.8"
  }
 },
 "nbformat": 4,
 "nbformat_minor": 5
}
