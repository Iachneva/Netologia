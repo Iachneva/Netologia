{
 "cells": [
  {
   "cell_type": "code",
   "execution_count": null,
   "id": "930feac7",
   "metadata": {},
   "outputs": [],
   "source": [
    "#Задание 1. Переведите содержимое файла purchase_log.txt в словарь purchases вида:{‘1840e0b9d4’: ‘Продукты’, …}"
   ]
  },
  {
   "cell_type": "code",
   "execution_count": 5,
   "id": "67fd49b1",
   "metadata": {},
   "outputs": [
    {
     "name": "stdout",
     "output_type": "stream",
     "text": [
      "{\n",
      "'user_id' : 'category'\n",
      "'1840e0b9d4' : 'Продукты'\n",
      "'4e4f90fcfb' : 'Электроника'\n",
      "'afea8d72fc' : 'Электроника'\n",
      "'373a6055fe' : 'Бытовая техника'\n",
      "'9b2ab046f3' : 'Электроника'\n",
      "'9f39d307c3' : 'Электроника'\n",
      "'44edeffc91' : 'Продукты'\n",
      "'704474fa2d' : 'Продукты'\n",
      "'1de31be403' : 'Бытовая техника'\n",
      "'b71f36a5e4' : 'Продукты'\n",
      "}\n"
     ]
    }
   ],
   "source": [
    "import json\n",
    "purchases = {}\n",
    "with open('Downloads/purchase_log.txt', 'r', encoding='utf-8') as f:\n",
    "    for line in f:\n",
    "        dict_ = json.loads(line)\n",
    "        for value in dict_:\n",
    "            purchases[dict_['user_id']] = dict_['category']       \n",
    "i = 0\n",
    "print(\"{\")\n",
    "for key, value in purchases.items():\n",
    "    print(\"'{}' : '{}'\".format(key, value))\n",
    "    i += 1\n",
    "    if i > 10:\n",
    "        break\n",
    "print(\"}\")"
   ]
  },
  {
   "cell_type": "code",
   "execution_count": null,
   "id": "47100415",
   "metadata": {},
   "outputs": [],
   "source": [
    "#Задание 2. Для каждого user_id в файле visit_log.csv определите третий столбец с категорией покупки (если покупка была, сам файл visit_log.csv изменять не надо). Запишите в файл funnel.csv визиты из файла visit_log.csv, в которых были покупки с указанием категории.\n",
    "Учтите условия на данные:\n",
    "содержимое purchase_log.txt помещается в оперативную память компьютера\n",
    "содержимое visit_log.csv - нет; используйте только построчную обработку этого файла"
   ]
  },
  {
   "cell_type": "code",
   "execution_count": 11,
   "id": "bbfb60a9",
   "metadata": {},
   "outputs": [],
   "source": [
    "with open ('Downloads/visit_log.csv', 'r', encoding = 'utf-8') as f_visit:\n",
    "    with open('funnel.csv', 'w', encoding = 'utf-8') as f_funnel:\n",
    "        for line in f_visit:\n",
    "            line = line.strip().split(\",\")\n",
    "            category = purchases.get(line[0])\n",
    "            if category != None:\n",
    "                final_list = line\n",
    "                final_list.append(category)\n",
    "                final_list_str = ', '.join(final_list)\n",
    "                f_funnel.write(final_list_str + \"\\n\")"
   ]
  },
  {
   "cell_type": "code",
   "execution_count": null,
   "id": "04db4322",
   "metadata": {},
   "outputs": [],
   "source": []
  }
 ],
 "metadata": {
  "kernelspec": {
   "display_name": "Python 3",
   "language": "python",
   "name": "python3"
  },
  "language_info": {
   "codemirror_mode": {
    "name": "ipython",
    "version": 3
   },
   "file_extension": ".py",
   "mimetype": "text/x-python",
   "name": "python",
   "nbconvert_exporter": "python",
   "pygments_lexer": "ipython3",
   "version": "3.8.8"
  }
 },
 "nbformat": 4,
 "nbformat_minor": 5
}
