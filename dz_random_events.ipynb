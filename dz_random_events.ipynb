{
 "cells": [
  {
   "cell_type": "markdown",
   "id": "4aff7a92",
   "metadata": {},
   "source": [
    "Домашнее задание к лекции «Случайные события. Случайные величины»\n",
    "\n",
    "Текст задания см. на скриншоте http://prntscr.com/uh35yg\n",
    "\n",
    "Смоделировать игру против лотерейного автомата типа “777”. Игрок платит 1 руб., после чего выпадает случайное целое число, равномерно распределенное от 0 до 999. При некоторых значениях числа игрок получает выигрыш.\n",
    "\n",
    "777: 200 руб.\n",
    "999: 100 руб.\n",
    "555: 50 руб.\n",
    "333: 15 руб.\n",
    "111: 10 руб.\n",
    "*77: 5 руб.\n",
    "**7: 3 руб.\n",
    "*00: 2 руб.\n",
    "**0: 1 руб.\n",
    "\n",
    "Вопросы:\n",
    "\n",
    "Выгодна ли игра игроку?\n",
    "Сколько в среднем приобретает или теряет игрок за одну игру?"
   ]
  },
  {
   "cell_type": "code",
   "execution_count": 1,
   "id": "a3248c63",
   "metadata": {},
   "outputs": [],
   "source": [
    "import numpy as np"
   ]
  },
  {
   "cell_type": "code",
   "execution_count": 4,
   "id": "fb3b65d6",
   "metadata": {},
   "outputs": [],
   "source": [
    "trials = 1000000 \n",
    "successes = 0 \n",
    "rate = 0\n",
    "win = 0\n",
    "\n",
    "for i in range(trials):\n",
    "    rate += 1\n",
    "    random_number = np.random.randint(0, 1000)  \n",
    "    \n",
    "    if random_number == 777:\n",
    "        successes += 1\n",
    "        win += 200\n",
    "    elif random_number == 999:\n",
    "        successes += 1\n",
    "        win += 100\n",
    "    elif random_number == 555:\n",
    "        successes += 1\n",
    "        win += 50\n",
    "    elif random_number == 333:\n",
    "        successes += 1\n",
    "        win += 15\n",
    "    elif random_number == 111:\n",
    "        successes += 1\n",
    "        win += 10\n",
    "    elif random_number%100 == 77: \n",
    "        successes += 1\n",
    "        win += 5\n",
    "    elif random_number%10 == 7: \n",
    "        successes += 1\n",
    "        win += 3\n",
    "    elif random_number%100 == 0:  \n",
    "        successes += 1\n",
    "        win += 2\n",
    "    elif random_number%10 == 0: \n",
    "        successes += 1\n",
    "        win += 1"
   ]
  },
  {
   "cell_type": "code",
   "execution_count": 5,
   "id": "32247a49",
   "metadata": {},
   "outputs": [
    {
     "name": "stdout",
     "output_type": "stream",
     "text": [
      "Количество успехов 203843 из 1000000\n",
      "Вероятность выигрыша: 20 %\n",
      "Игрок выиграл 794320 руб., потратил 1000000 руб., прибыль -205680 руб.\n",
      "В среднем за одну игру игрок приобретает -0.20568 руб.\n"
     ]
    }
   ],
   "source": [
    "print(f'Количество успехов {successes} из {trials}')\n",
    "print(f'Вероятность выигрыша: {round((successes / trials)*100)} %')\n",
    "print(f'Игрок выиграл {win} руб., потратил {rate} руб., прибыль {win -  rate} руб.')\n",
    "print(f'В среднем за одну игру игрок приобретает {(win -  rate) / trials} руб.')"
   ]
  },
  {
   "cell_type": "code",
   "execution_count": null,
   "id": "21fdeece",
   "metadata": {},
   "outputs": [],
   "source": []
  }
 ],
 "metadata": {
  "kernelspec": {
   "display_name": "Python 3",
   "language": "python",
   "name": "python3"
  },
  "language_info": {
   "codemirror_mode": {
    "name": "ipython",
    "version": 3
   },
   "file_extension": ".py",
   "mimetype": "text/x-python",
   "name": "python",
   "nbconvert_exporter": "python",
   "pygments_lexer": "ipython3",
   "version": "3.8.8"
  }
 },
 "nbformat": 4,
 "nbformat_minor": 5
}
